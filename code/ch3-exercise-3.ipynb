{
 "cells": [
  {
   "cell_type": "markdown",
   "id": "2659304d",
   "metadata": {},
   "source": [
    "### Chapter 3 Matplotlib Data Visualization\n",
    "\n",
    "Exercise 3"
   ]
  },
  {
   "cell_type": "code",
   "execution_count": 2,
   "id": "8be87053",
   "metadata": {},
   "outputs": [],
   "source": [
    "from pathlib import Path\n",
    "import pandas as pd\n",
    "import numpy as np\n",
    "import matplotlib.pyplot as plt\n",
    "import matplotlib as mpl\n",
    "from matplotlib import ticker\n",
    "import statsmodels.formula.api as smf"
   ]
  },
  {
   "cell_type": "code",
   "execution_count": 3,
   "id": "7672c4e6",
   "metadata": {},
   "outputs": [],
   "source": [
    "src_file = Path.cwd() / 'data' / 'raw' / 'EPA_fuel_economy.csv'\n",
    "image_dir = Path.cwd() / 'images'"
   ]
  },
  {
   "cell_type": "code",
   "execution_count": 4,
   "id": "bd06540b",
   "metadata": {},
   "outputs": [],
   "source": [
    "df = pd.read_csv(src_file)"
   ]
  },
  {
   "cell_type": "code",
   "execution_count": 5,
   "id": "fe1c5dec",
   "metadata": {},
   "outputs": [
    {
     "data": {
      "text/html": [
       "<div>\n",
       "<style scoped>\n",
       "    .dataframe tbody tr th:only-of-type {\n",
       "        vertical-align: middle;\n",
       "    }\n",
       "\n",
       "    .dataframe tbody tr th {\n",
       "        vertical-align: top;\n",
       "    }\n",
       "\n",
       "    .dataframe thead th {\n",
       "        text-align: right;\n",
       "    }\n",
       "</style>\n",
       "<table border=\"1\" class=\"dataframe\">\n",
       "  <thead>\n",
       "    <tr style=\"text-align: right;\">\n",
       "      <th></th>\n",
       "      <th>make</th>\n",
       "      <th>model</th>\n",
       "      <th>year</th>\n",
       "      <th>cylinders</th>\n",
       "      <th>trany</th>\n",
       "      <th>displ</th>\n",
       "      <th>VClass</th>\n",
       "      <th>co2</th>\n",
       "      <th>barrels08</th>\n",
       "      <th>fuelCost08</th>\n",
       "      <th>fuelType</th>\n",
       "      <th>highway08</th>\n",
       "      <th>city08</th>\n",
       "      <th>comb08</th>\n",
       "    </tr>\n",
       "  </thead>\n",
       "  <tbody>\n",
       "    <tr>\n",
       "      <th>0</th>\n",
       "      <td>Acura</td>\n",
       "      <td>NSX</td>\n",
       "      <td>2000</td>\n",
       "      <td>6.0</td>\n",
       "      <td>Automatic 4-spd</td>\n",
       "      <td>3.0</td>\n",
       "      <td>Two Seaters</td>\n",
       "      <td>-1</td>\n",
       "      <td>18.311667</td>\n",
       "      <td>2600</td>\n",
       "      <td>Premium</td>\n",
       "      <td>22</td>\n",
       "      <td>15</td>\n",
       "      <td>18</td>\n",
       "    </tr>\n",
       "    <tr>\n",
       "      <th>1</th>\n",
       "      <td>Acura</td>\n",
       "      <td>NSX</td>\n",
       "      <td>2000</td>\n",
       "      <td>6.0</td>\n",
       "      <td>Manual 6-spd</td>\n",
       "      <td>3.2</td>\n",
       "      <td>Two Seaters</td>\n",
       "      <td>-1</td>\n",
       "      <td>18.311667</td>\n",
       "      <td>2600</td>\n",
       "      <td>Premium</td>\n",
       "      <td>22</td>\n",
       "      <td>15</td>\n",
       "      <td>18</td>\n",
       "    </tr>\n",
       "    <tr>\n",
       "      <th>2</th>\n",
       "      <td>BMW</td>\n",
       "      <td>M Coupe</td>\n",
       "      <td>2000</td>\n",
       "      <td>6.0</td>\n",
       "      <td>Manual 5-spd</td>\n",
       "      <td>3.2</td>\n",
       "      <td>Two Seaters</td>\n",
       "      <td>-1</td>\n",
       "      <td>17.347895</td>\n",
       "      <td>2500</td>\n",
       "      <td>Premium</td>\n",
       "      <td>23</td>\n",
       "      <td>17</td>\n",
       "      <td>19</td>\n",
       "    </tr>\n",
       "    <tr>\n",
       "      <th>3</th>\n",
       "      <td>BMW</td>\n",
       "      <td>Z3 Coupe</td>\n",
       "      <td>2000</td>\n",
       "      <td>6.0</td>\n",
       "      <td>Automatic 4-spd</td>\n",
       "      <td>2.8</td>\n",
       "      <td>Two Seaters</td>\n",
       "      <td>-1</td>\n",
       "      <td>17.347895</td>\n",
       "      <td>2500</td>\n",
       "      <td>Premium</td>\n",
       "      <td>24</td>\n",
       "      <td>17</td>\n",
       "      <td>19</td>\n",
       "    </tr>\n",
       "    <tr>\n",
       "      <th>4</th>\n",
       "      <td>BMW</td>\n",
       "      <td>Z3 Coupe</td>\n",
       "      <td>2000</td>\n",
       "      <td>6.0</td>\n",
       "      <td>Manual 5-spd</td>\n",
       "      <td>2.8</td>\n",
       "      <td>Two Seaters</td>\n",
       "      <td>-1</td>\n",
       "      <td>17.347895</td>\n",
       "      <td>2500</td>\n",
       "      <td>Premium</td>\n",
       "      <td>24</td>\n",
       "      <td>17</td>\n",
       "      <td>19</td>\n",
       "    </tr>\n",
       "  </tbody>\n",
       "</table>\n",
       "</div>"
      ],
      "text/plain": [
       "    make     model  year  cylinders            trany  displ       VClass  co2  \\\n",
       "0  Acura       NSX  2000        6.0  Automatic 4-spd    3.0  Two Seaters   -1   \n",
       "1  Acura       NSX  2000        6.0     Manual 6-spd    3.2  Two Seaters   -1   \n",
       "2    BMW   M Coupe  2000        6.0     Manual 5-spd    3.2  Two Seaters   -1   \n",
       "3    BMW  Z3 Coupe  2000        6.0  Automatic 4-spd    2.8  Two Seaters   -1   \n",
       "4    BMW  Z3 Coupe  2000        6.0     Manual 5-spd    2.8  Two Seaters   -1   \n",
       "\n",
       "   barrels08  fuelCost08 fuelType  highway08  city08  comb08  \n",
       "0  18.311667        2600  Premium         22      15      18  \n",
       "1  18.311667        2600  Premium         22      15      18  \n",
       "2  17.347895        2500  Premium         23      17      19  \n",
       "3  17.347895        2500  Premium         24      17      19  \n",
       "4  17.347895        2500  Premium         24      17      19  "
      ]
     },
     "execution_count": 5,
     "metadata": {},
     "output_type": "execute_result"
    }
   ],
   "source": [
    "df.head()"
   ]
  },
  {
   "cell_type": "code",
   "execution_count": 5,
   "id": "d0b63dde",
   "metadata": {},
   "outputs": [],
   "source": [
    "%matplotlib inline"
   ]
  },
  {
   "cell_type": "code",
   "execution_count": 6,
   "id": "01181bed",
   "metadata": {},
   "outputs": [
    {
     "data": {
      "text/html": [
       "<div>\n",
       "<style scoped>\n",
       "    .dataframe tbody tr th:only-of-type {\n",
       "        vertical-align: middle;\n",
       "    }\n",
       "\n",
       "    .dataframe tbody tr th {\n",
       "        vertical-align: top;\n",
       "    }\n",
       "\n",
       "    .dataframe thead th {\n",
       "        text-align: right;\n",
       "    }\n",
       "</style>\n",
       "<table border=\"1\" class=\"dataframe\">\n",
       "  <thead>\n",
       "    <tr style=\"text-align: right;\">\n",
       "      <th></th>\n",
       "      <th>year</th>\n",
       "      <th>fuelCost08</th>\n",
       "    </tr>\n",
       "  </thead>\n",
       "  <tbody>\n",
       "    <tr>\n",
       "      <th>0</th>\n",
       "      <td>2000</td>\n",
       "      <td>2184.94</td>\n",
       "    </tr>\n",
       "    <tr>\n",
       "      <th>1</th>\n",
       "      <td>2001</td>\n",
       "      <td>2201.48</td>\n",
       "    </tr>\n",
       "    <tr>\n",
       "      <th>2</th>\n",
       "      <td>2002</td>\n",
       "      <td>2229.38</td>\n",
       "    </tr>\n",
       "    <tr>\n",
       "      <th>3</th>\n",
       "      <td>2003</td>\n",
       "      <td>2273.99</td>\n",
       "    </tr>\n",
       "    <tr>\n",
       "      <th>4</th>\n",
       "      <td>2004</td>\n",
       "      <td>2264.57</td>\n",
       "    </tr>\n",
       "    <tr>\n",
       "      <th>5</th>\n",
       "      <td>2005</td>\n",
       "      <td>2271.01</td>\n",
       "    </tr>\n",
       "    <tr>\n",
       "      <th>6</th>\n",
       "      <td>2006</td>\n",
       "      <td>2287.00</td>\n",
       "    </tr>\n",
       "    <tr>\n",
       "      <th>7</th>\n",
       "      <td>2007</td>\n",
       "      <td>2284.15</td>\n",
       "    </tr>\n",
       "    <tr>\n",
       "      <th>8</th>\n",
       "      <td>2008</td>\n",
       "      <td>2285.68</td>\n",
       "    </tr>\n",
       "    <tr>\n",
       "      <th>9</th>\n",
       "      <td>2009</td>\n",
       "      <td>2183.23</td>\n",
       "    </tr>\n",
       "    <tr>\n",
       "      <th>10</th>\n",
       "      <td>2010</td>\n",
       "      <td>2116.50</td>\n",
       "    </tr>\n",
       "    <tr>\n",
       "      <th>11</th>\n",
       "      <td>2011</td>\n",
       "      <td>2103.86</td>\n",
       "    </tr>\n",
       "    <tr>\n",
       "      <th>12</th>\n",
       "      <td>2012</td>\n",
       "      <td>2066.26</td>\n",
       "    </tr>\n",
       "    <tr>\n",
       "      <th>13</th>\n",
       "      <td>2013</td>\n",
       "      <td>1996.78</td>\n",
       "    </tr>\n",
       "    <tr>\n",
       "      <th>14</th>\n",
       "      <td>2014</td>\n",
       "      <td>1987.84</td>\n",
       "    </tr>\n",
       "    <tr>\n",
       "      <th>15</th>\n",
       "      <td>2015</td>\n",
       "      <td>1943.05</td>\n",
       "    </tr>\n",
       "    <tr>\n",
       "      <th>16</th>\n",
       "      <td>2016</td>\n",
       "      <td>1894.37</td>\n",
       "    </tr>\n",
       "    <tr>\n",
       "      <th>17</th>\n",
       "      <td>2017</td>\n",
       "      <td>1894.86</td>\n",
       "    </tr>\n",
       "    <tr>\n",
       "      <th>18</th>\n",
       "      <td>2018</td>\n",
       "      <td>1905.42</td>\n",
       "    </tr>\n",
       "    <tr>\n",
       "      <th>19</th>\n",
       "      <td>2019</td>\n",
       "      <td>1900.22</td>\n",
       "    </tr>\n",
       "    <tr>\n",
       "      <th>20</th>\n",
       "      <td>2020</td>\n",
       "      <td>1920.10</td>\n",
       "    </tr>\n",
       "  </tbody>\n",
       "</table>\n",
       "</div>"
      ],
      "text/plain": [
       "    year  fuelCost08\n",
       "0   2000     2184.94\n",
       "1   2001     2201.48\n",
       "2   2002     2229.38\n",
       "3   2003     2273.99\n",
       "4   2004     2264.57\n",
       "5   2005     2271.01\n",
       "6   2006     2287.00\n",
       "7   2007     2284.15\n",
       "8   2008     2285.68\n",
       "9   2009     2183.23\n",
       "10  2010     2116.50\n",
       "11  2011     2103.86\n",
       "12  2012     2066.26\n",
       "13  2013     1996.78\n",
       "14  2014     1987.84\n",
       "15  2015     1943.05\n",
       "16  2016     1894.37\n",
       "17  2017     1894.86\n",
       "18  2018     1905.42\n",
       "19  2019     1900.22\n",
       "20  2020     1920.10"
      ]
     },
     "execution_count": 6,
     "metadata": {},
     "output_type": "execute_result"
    }
   ],
   "source": [
    "avg_by_year = df.groupby(['year'], as_index=False).agg({'fuelCost08': 'mean'}).round(2)\n",
    "avg_by_year"
   ]
  },
  {
   "cell_type": "code",
   "execution_count": 7,
   "id": "02d213d7",
   "metadata": {},
   "outputs": [],
   "source": [
    "mpg_model = smf.ols(\"fuelCost08 ~ year\", data=avg_by_year).fit()"
   ]
  },
  {
   "cell_type": "code",
   "execution_count": 8,
   "id": "343ec311",
   "metadata": {},
   "outputs": [
    {
     "data": {
      "text/plain": [
       "0     2325.850476\n",
       "1     2303.716333\n",
       "2     2281.582190\n",
       "3     2259.448048\n",
       "4     2237.313905\n",
       "5     2215.179762\n",
       "6     2193.045619\n",
       "7     2170.911476\n",
       "8     2148.777333\n",
       "9     2126.643190\n",
       "10    2104.509048\n",
       "11    2082.374905\n",
       "12    2060.240762\n",
       "13    2038.106619\n",
       "14    2015.972476\n",
       "15    1993.838333\n",
       "16    1971.704190\n",
       "17    1949.570048\n",
       "18    1927.435905\n",
       "19    1905.301762\n",
       "20    1883.167619\n",
       "dtype: float64"
      ]
     },
     "execution_count": 8,
     "metadata": {},
     "output_type": "execute_result"
    }
   ],
   "source": [
    "mpg_model.fittedvalues"
   ]
  },
  {
   "cell_type": "code",
   "execution_count": 9,
   "id": "8bf69ac9",
   "metadata": {},
   "outputs": [
    {
     "data": {
      "text/html": [
       "<table class=\"simpletable\">\n",
       "<caption>OLS Regression Results</caption>\n",
       "<tr>\n",
       "  <th>Dep. Variable:</th>       <td>fuelCost08</td>    <th>  R-squared:         </th> <td>   0.795</td>\n",
       "</tr>\n",
       "<tr>\n",
       "  <th>Model:</th>                   <td>OLS</td>       <th>  Adj. R-squared:    </th> <td>   0.784</td>\n",
       "</tr>\n",
       "<tr>\n",
       "  <th>Method:</th>             <td>Least Squares</td>  <th>  F-statistic:       </th> <td>   73.69</td>\n",
       "</tr>\n",
       "<tr>\n",
       "  <th>Date:</th>             <td>Sat, 09 Oct 2021</td> <th>  Prob (F-statistic):</th> <td>5.79e-08</td>\n",
       "</tr>\n",
       "<tr>\n",
       "  <th>Time:</th>                 <td>11:20:05</td>     <th>  Log-Likelihood:    </th> <td> -118.43</td>\n",
       "</tr>\n",
       "<tr>\n",
       "  <th>No. Observations:</th>      <td>    21</td>      <th>  AIC:               </th> <td>   240.9</td>\n",
       "</tr>\n",
       "<tr>\n",
       "  <th>Df Residuals:</th>          <td>    19</td>      <th>  BIC:               </th> <td>   242.9</td>\n",
       "</tr>\n",
       "<tr>\n",
       "  <th>Df Model:</th>              <td>     1</td>      <th>                     </th>     <td> </td>   \n",
       "</tr>\n",
       "<tr>\n",
       "  <th>Covariance Type:</th>      <td>nonrobust</td>    <th>                     </th>     <td> </td>   \n",
       "</tr>\n",
       "</table>\n",
       "<table class=\"simpletable\">\n",
       "<tr>\n",
       "      <td></td>         <th>coef</th>     <th>std err</th>      <th>t</th>      <th>P>|t|</th>  <th>[0.025</th>    <th>0.975]</th>  \n",
       "</tr>\n",
       "<tr>\n",
       "  <th>Intercept</th> <td> 4.659e+04</td> <td> 5182.756</td> <td>    8.990</td> <td> 0.000</td> <td> 3.57e+04</td> <td> 5.74e+04</td>\n",
       "</tr>\n",
       "<tr>\n",
       "  <th>year</th>      <td>  -22.1341</td> <td>    2.578</td> <td>   -8.584</td> <td> 0.000</td> <td>  -27.531</td> <td>  -16.737</td>\n",
       "</tr>\n",
       "</table>\n",
       "<table class=\"simpletable\">\n",
       "<tr>\n",
       "  <th>Omnibus:</th>       <td> 0.027</td> <th>  Durbin-Watson:     </th> <td>   0.286</td>\n",
       "</tr>\n",
       "<tr>\n",
       "  <th>Prob(Omnibus):</th> <td> 0.986</td> <th>  Jarque-Bera (JB):  </th> <td>   0.137</td>\n",
       "</tr>\n",
       "<tr>\n",
       "  <th>Skew:</th>          <td> 0.063</td> <th>  Prob(JB):          </th> <td>   0.934</td>\n",
       "</tr>\n",
       "<tr>\n",
       "  <th>Kurtosis:</th>      <td> 2.624</td> <th>  Cond. No.          </th> <td>6.67e+05</td>\n",
       "</tr>\n",
       "</table><br/><br/>Notes:<br/>[1] Standard Errors assume that the covariance matrix of the errors is correctly specified.<br/>[2] The condition number is large, 6.67e+05. This might indicate that there are<br/>strong multicollinearity or other numerical problems."
      ],
      "text/plain": [
       "<class 'statsmodels.iolib.summary.Summary'>\n",
       "\"\"\"\n",
       "                            OLS Regression Results                            \n",
       "==============================================================================\n",
       "Dep. Variable:             fuelCost08   R-squared:                       0.795\n",
       "Model:                            OLS   Adj. R-squared:                  0.784\n",
       "Method:                 Least Squares   F-statistic:                     73.69\n",
       "Date:                Sat, 09 Oct 2021   Prob (F-statistic):           5.79e-08\n",
       "Time:                        11:20:05   Log-Likelihood:                -118.43\n",
       "No. Observations:                  21   AIC:                             240.9\n",
       "Df Residuals:                      19   BIC:                             242.9\n",
       "Df Model:                           1                                         \n",
       "Covariance Type:            nonrobust                                         \n",
       "==============================================================================\n",
       "                 coef    std err          t      P>|t|      [0.025      0.975]\n",
       "------------------------------------------------------------------------------\n",
       "Intercept   4.659e+04   5182.756      8.990      0.000    3.57e+04    5.74e+04\n",
       "year         -22.1341      2.578     -8.584      0.000     -27.531     -16.737\n",
       "==============================================================================\n",
       "Omnibus:                        0.027   Durbin-Watson:                   0.286\n",
       "Prob(Omnibus):                  0.986   Jarque-Bera (JB):                0.137\n",
       "Skew:                           0.063   Prob(JB):                        0.934\n",
       "Kurtosis:                       2.624   Cond. No.                     6.67e+05\n",
       "==============================================================================\n",
       "\n",
       "Notes:\n",
       "[1] Standard Errors assume that the covariance matrix of the errors is correctly specified.\n",
       "[2] The condition number is large, 6.67e+05. This might indicate that there are\n",
       "strong multicollinearity or other numerical problems.\n",
       "\"\"\""
      ]
     },
     "execution_count": 9,
     "metadata": {},
     "output_type": "execute_result"
    }
   ],
   "source": [
    "mpg_model.summary()"
   ]
  },
  {
   "cell_type": "code",
   "execution_count": 10,
   "id": "a715f8b7",
   "metadata": {},
   "outputs": [
    {
     "data": {
      "image/png": "[encoded data removed]",
      "text/plain": [
       "<Figure size 432x288 with 1 Axes>"
      ]
     },
     "metadata": {
      "needs_background": "light"
     },
     "output_type": "display_data"
    }
   ],
   "source": [
    "fig, ax = plt.subplots()\n",
    "ax.scatter(x=avg_by_year['year'], y=avg_by_year['fuelCost08'])\n",
    "ax.plot(avg_by_year['year'], mpg_model.fittedvalues);"
   ]
  },
  {
   "cell_type": "code",
   "execution_count": 11,
   "id": "9a3a36f7",
   "metadata": {},
   "outputs": [
    {
     "data": {
      "image/png": "[encoded data removed]",
      "text/plain": [
       "<Figure size 432x288 with 1 Axes>"
      ]
     },
     "metadata": {
      "needs_background": "light"
     },
     "output_type": "display_data"
    }
   ],
   "source": [
    "fig, ax = plt.subplots()\n",
    "ax.scatter(x=avg_by_year['year'], y=avg_by_year['fuelCost08'])\n",
    "ax.plot(avg_by_year['year'], mpg_model.fittedvalues)\n",
    "ax.set_xlim((2010,2020))\n",
    "ax.set_ylim((1800,2200));"
   ]
  },
  {
   "cell_type": "code",
   "execution_count": 13,
   "id": "f49c42e4",
   "metadata": {},
   "outputs": [
    {
     "data": {
      "text/plain": [
       "1970.0"
      ]
     },
     "execution_count": 13,
     "metadata": {},
     "output_type": "execute_result"
    }
   ],
   "source": [
    "df_2010 = df.query('year >= 2010').copy()\n",
    "avg_fuel_cost = df_2010['fuelCost08'].mean().round(0)\n",
    "avg_fuel_cost"
   ]
  },
  {
   "cell_type": "code",
   "execution_count": 14,
   "id": "a24166c0",
   "metadata": {},
   "outputs": [
    {
     "data": {
      "image/png": "[encoded data removed]",
      "text/plain": [
       "<Figure size 864x432 with 2 Axes>"
      ]
     },
     "metadata": {},
     "output_type": "display_data"
    }
   ],
   "source": [
    "mpl.style.use('ggplot')\n",
    "fig, (ax1, ax2) = plt.subplots(nrows=1, ncols=2, \n",
    "                               figsize=(12,6))\n",
    "\n",
    "ax1.scatter(x=avg_by_year['year'], \n",
    "            y=avg_by_year['fuelCost08'])\n",
    "ax1.plot(avg_by_year['year'], \n",
    "         mpg_model.fittedvalues, \n",
    "         color='forestgreen', linestyle='--')\n",
    "\n",
    "ax1.set(xlabel='Year', ylabel='Fuel Cost', \n",
    "        ylim=(1850, 2200), xlim=(2010,2020))\n",
    "ax1.yaxis.set_major_formatter('${x:,.0f}')\n",
    "ax1.axhline(avg_fuel_cost, linestyle=':', color='orange')\n",
    "ax1.annotate(f'${avg_fuel_cost}', xy=(2017, avg_fuel_cost))\n",
    "\n",
    "ax2.hist(df_2010['fuelCost08'], color = \"skyblue\", ec=\"white\")\n",
    "ax2.xaxis.set_major_formatter('${x:,.0f}')\n",
    "ax2.set(xlabel='Fuel Costs', ylabel='Num autos')\n",
    "ax2.axvline(avg_fuel_cost, linestyle=':')\n",
    "ax2.annotate(f'${avg_fuel_cost}', xy=(avg_fuel_cost, 3500))\n",
    "\n",
    "fig.suptitle('EPA Estimated FuelCosts', \n",
    "             weight='bold', size=14)\n",
    "fig.savefig(image_dir/'line_hist.svg', \n",
    "            transparent=False, dpi=200, bbox_inches=\"tight\")"
   ]
  },
  {
   "cell_type": "code",
   "execution_count": null,
   "id": "7416766b",
   "metadata": {},
   "outputs": [],
   "source": []
  }
 ],
 "metadata": {
  "kernelspec": {
   "display_name": "Python 3 (ipykernel)",
   "language": "python",
   "name": "python3"
  },
  "language_info": {
   "codemirror_mode": {
    "name": "ipython",
    "version": 3
   },
   "file_extension": ".py",
   "mimetype": "text/x-python",
   "name": "python",
   "nbconvert_exporter": "python",
   "pygments_lexer": "ipython3",
   "version": "3.10.8"
  }
 },
 "nbformat": 4,
 "nbformat_minor": 5
}
